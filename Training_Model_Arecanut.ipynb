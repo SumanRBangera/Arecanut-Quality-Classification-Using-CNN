{
  "nbformat": 4,
  "nbformat_minor": 0,
  "metadata": {
    "colab": {
      "provenance": [],
      "authorship_tag": "ABX9TyOOCk1S8XHy3JDt7oRjAUlN",
      "include_colab_link": true
    },
    "kernelspec": {
      "name": "python3",
      "display_name": "Python 3"
    },
    "language_info": {
      "name": "python"
    }
  },
  "cells": [
    {
      "cell_type": "markdown",
      "metadata": {
        "id": "view-in-github",
        "colab_type": "text"
      },
      "source": [
        "<a href=\"https://colab.research.google.com/github/SumanRBangera/Arecanut-Quality-Classification-Using-CNN/blob/main/Training_Model_Arecanut.ipynb\" target=\"_parent\"><img src=\"https://colab.research.google.com/assets/colab-badge.svg\" alt=\"Open In Colab\"/></a>"
      ]
    },
    {
      "cell_type": "code",
      "source": [
        "from google.colab import drive\n",
        "drive.mount('/content/drive')"
      ],
      "metadata": {
        "colab": {
          "base_uri": "https://localhost:8080/"
        },
        "id": "XrxOcW7uZgdx",
        "outputId": "c1f6adff-b045-475d-a91f-b004af9392c2"
      },
      "execution_count": null,
      "outputs": [
        {
          "output_type": "stream",
          "name": "stdout",
          "text": [
            "Mounted at /content/drive\n"
          ]
        }
      ]
    },
    {
      "cell_type": "code",
      "execution_count": null,
      "metadata": {
        "id": "EWgA3rUsY3Jt"
      },
      "outputs": [],
      "source": [
        "import os\n",
        "import numpy as np\n",
        "from sklearn.datasets import load_files\n",
        "from keras.preprocessing import image\n",
        "from sklearn.model_selection import train_test_split\n",
        "from sklearn.model_selection import GridSearchCV\n",
        "from sklearn.svm import SVC\n",
        "from sklearn.metrics import accuracy_score\n",
        "from tensorflow.keras.applications import VGG16\n",
        "from tensorflow.keras.layers import GlobalAveragePooling2D, Dense\n",
        "from tensorflow.keras.models import Model\n",
        "import cv2\n",
        "from sklearn.utils import shuffle\n",
        "from sklearn.preprocessing import LabelEncoder\n",
        "\n",
        "# Define the path to your dataset folder\n",
        "dataset_dir = '/content/drive/My Drive/Dataset_Images'\n",
        "\n",
        "# Define the list of categories (grades)\n",
        "categories = ['High_Quality', 'Low_Quality', 'Medium_Quality']\n",
        "\n",
        "# Create empty lists to store images and labels\n",
        "images = []\n",
        "labels = []\n",
        "\n",
        "# Loop through the categories\n",
        "for label, category in enumerate(categories):\n",
        "    category_dir = os.path.join(dataset_dir, category)\n",
        "\n",
        "    for filename in os.listdir(category_dir):\n",
        "        if filename.endswith('.jpg'):\n",
        "            image_path = os.path.join(category_dir, filename)\n",
        "\n",
        "            # Load and preprocess the image using OpenCV\n",
        "            img = cv2.imread(image_path)\n",
        "            img = cv2.resize(img, (128, 128))  # Resize the image to a consistent size\n",
        "            img = cv2.cvtColor(img, cv2.COLOR_BGR2RGB)  # Convert to RGB format if necessary\n",
        "\n",
        "            # Normalize the pixel values to the range [0, 1]\n",
        "            img = img / 255.0\n",
        "\n",
        "            images.append(img)\n",
        "            labels.append(label)\n",
        "\n",
        "# Convert the lists to NumPy arrays\n",
        "images = np.array(images)\n",
        "labels = np.array(labels)\n",
        "\n",
        "# Shuffle the data to ensure random ordering\n",
        "images, labels = shuffle(images, labels, random_state=42)\n",
        "\n",
        "# Split the data into training and testing sets\n",
        "X_train, X_test, y_train, y_test = train_test_split(images, labels, test_size=0.2, random_state=42)\n",
        "\n",
        "# Encode the labels\n",
        "label_encoder = LabelEncoder()\n",
        "y_train_encoded = label_encoder.fit_transform(y_train)\n",
        "y_test_encoded = label_encoder.transform(y_test)"
      ]
    },
    {
      "cell_type": "code",
      "source": [
        "from tensorflow.keras.models import Sequential\n",
        "from tensorflow.keras.layers import Conv2D, MaxPooling2D, Flatten, Dense, Dropout\n",
        "\n",
        "# Set the hyperparameters\n",
        "dense_units = 64\n",
        "filters = 64\n",
        "kernel_size = (5, 5)\n",
        "pool_size = (2, 2)\n",
        "\n",
        "# Build the CNN model\n",
        "model = Sequential()\n",
        "\n",
        "#  the first convolutional layer with MaxPooling\n",
        "model.add(Conv2D(filters, kernel_size, input_shape=(128, 128, 3), activation='relu'))\n",
        "model.add(MaxPooling2D(pool_size=pool_size))"
      ],
      "metadata": {
        "id": "G6r5qh_CZcXS"
      },
      "execution_count": null,
      "outputs": []
    },
    {
      "cell_type": "code",
      "source": [
        "#  a second convolutional layer with MaxPooling\n",
        "model.add(Conv2D(filters, kernel_size, activation='relu'))\n",
        "model.add(MaxPooling2D(pool_size=pool_size))"
      ],
      "metadata": {
        "id": "ZXcOp-3ze489"
      },
      "execution_count": null,
      "outputs": []
    },
    {
      "cell_type": "code",
      "source": [
        "# Flatten the output before the dense layers\n",
        "model.add(Flatten())"
      ],
      "metadata": {
        "id": "VEBIr8t-e-ll"
      },
      "execution_count": null,
      "outputs": []
    },
    {
      "cell_type": "code",
      "source": [
        "# Add a dense layer with ReLU activation\n",
        "model.add(Dense(dense_units, activation='relu'))\n",
        "\n",
        "# Add a dropout layer for regularization\n",
        "model.add(Dropout(0.5))\n",
        "\n",
        "# Output layer with three units for the three categories and softmax activation\n",
        "model.add(Dense(3, activation='softmax'))"
      ],
      "metadata": {
        "id": "GZYoRBcNfB2F"
      },
      "execution_count": null,
      "outputs": []
    },
    {
      "cell_type": "code",
      "source": [
        "# Compile the model\n",
        "model.compile(optimizer='adam', loss='sparse_categorical_crossentropy', metrics=['accuracy'])"
      ],
      "metadata": {
        "id": "WeilEGQtfF6F"
      },
      "execution_count": null,
      "outputs": []
    },
    {
      "cell_type": "code",
      "source": [
        "# Display the model summary\n",
        "model.summary()"
      ],
      "metadata": {
        "colab": {
          "base_uri": "https://localhost:8080/"
        },
        "id": "Wa35kLlvfIl0",
        "outputId": "925b0a94-7523-4515-85ed-e76d1dc106f2"
      },
      "execution_count": null,
      "outputs": [
        {
          "output_type": "stream",
          "name": "stdout",
          "text": [
            "Model: \"sequential\"\n",
            "_________________________________________________________________\n",
            " Layer (type)                Output Shape              Param #   \n",
            "=================================================================\n",
            " conv2d (Conv2D)             (None, 124, 124, 64)      4864      \n",
            "                                                                 \n",
            " max_pooling2d (MaxPooling2  (None, 62, 62, 64)        0         \n",
            " D)                                                              \n",
            "                                                                 \n",
            " conv2d_1 (Conv2D)           (None, 58, 58, 64)        102464    \n",
            "                                                                 \n",
            " max_pooling2d_1 (MaxPoolin  (None, 29, 29, 64)        0         \n",
            " g2D)                                                            \n",
            "                                                                 \n",
            " flatten (Flatten)           (None, 53824)             0         \n",
            "                                                                 \n",
            " dense (Dense)               (None, 64)                3444800   \n",
            "                                                                 \n",
            " dropout (Dropout)           (None, 64)                0         \n",
            "                                                                 \n",
            " dense_1 (Dense)             (None, 3)                 195       \n",
            "                                                                 \n",
            "=================================================================\n",
            "Total params: 3552323 (13.55 MB)\n",
            "Trainable params: 3552323 (13.55 MB)\n",
            "Non-trainable params: 0 (0.00 Byte)\n",
            "_________________________________________________________________\n"
          ]
        }
      ]
    },
    {
      "cell_type": "code",
      "source": [
        "# Train the model\n",
        "history = model.fit(X_train, y_train_encoded, validation_data=(X_test, y_test_encoded), epochs=30, batch_size=32)"
      ],
      "metadata": {
        "colab": {
          "base_uri": "https://localhost:8080/"
        },
        "id": "7Dr93M8sfQK1",
        "outputId": "c7697ee7-7814-4246-e70c-1264d6cb8b1d"
      },
      "execution_count": null,
      "outputs": [
        {
          "output_type": "stream",
          "name": "stdout",
          "text": [
            "Epoch 1/30\n",
            "46/46 [==============================] - 121s 3s/step - loss: 1.0003 - accuracy: 0.5267 - val_loss: 0.6547 - val_accuracy: 0.7514\n",
            "Epoch 2/30\n",
            "46/46 [==============================] - 115s 2s/step - loss: 0.6610 - accuracy: 0.6867 - val_loss: 0.4926 - val_accuracy: 0.8224\n",
            "Epoch 3/30\n",
            "46/46 [==============================] - 118s 3s/step - loss: 0.5531 - accuracy: 0.7510 - val_loss: 0.5268 - val_accuracy: 0.7541\n",
            "Epoch 4/30\n",
            "46/46 [==============================] - 125s 3s/step - loss: 0.5474 - accuracy: 0.7722 - val_loss: 0.6035 - val_accuracy: 0.7295\n",
            "Epoch 5/30\n",
            "46/46 [==============================] - 117s 3s/step - loss: 0.5328 - accuracy: 0.7668 - val_loss: 0.3726 - val_accuracy: 0.8552\n",
            "Epoch 6/30\n",
            "46/46 [==============================] - 115s 3s/step - loss: 0.4366 - accuracy: 0.8181 - val_loss: 0.4244 - val_accuracy: 0.7896\n",
            "Epoch 7/30\n",
            "46/46 [==============================] - 128s 3s/step - loss: 0.3987 - accuracy: 0.8447 - val_loss: 0.3555 - val_accuracy: 0.8443\n",
            "Epoch 8/30\n",
            "46/46 [==============================] - 131s 3s/step - loss: 0.4244 - accuracy: 0.8167 - val_loss: 0.3590 - val_accuracy: 0.8333\n",
            "Epoch 9/30\n",
            "46/46 [==============================] - 131s 3s/step - loss: 0.3904 - accuracy: 0.8331 - val_loss: 0.3405 - val_accuracy: 0.8579\n",
            "Epoch 10/30\n",
            "46/46 [==============================] - 135s 3s/step - loss: 0.3114 - accuracy: 0.8789 - val_loss: 0.2715 - val_accuracy: 0.8852\n",
            "Epoch 11/30\n",
            "46/46 [==============================] - 134s 3s/step - loss: 0.2814 - accuracy: 0.8933 - val_loss: 0.2732 - val_accuracy: 0.8743\n",
            "Epoch 12/30\n",
            "46/46 [==============================] - 120s 3s/step - loss: 0.2579 - accuracy: 0.8906 - val_loss: 0.2754 - val_accuracy: 0.8825\n",
            "Epoch 13/30\n",
            "46/46 [==============================] - 115s 3s/step - loss: 0.3209 - accuracy: 0.8639 - val_loss: 0.5725 - val_accuracy: 0.7404\n",
            "Epoch 14/30\n",
            "46/46 [==============================] - 117s 3s/step - loss: 0.3874 - accuracy: 0.8440 - val_loss: 0.4173 - val_accuracy: 0.8142\n",
            "Epoch 15/30\n",
            "46/46 [==============================] - 113s 2s/step - loss: 0.4697 - accuracy: 0.7975 - val_loss: 0.3951 - val_accuracy: 0.8033\n",
            "Epoch 16/30\n",
            "46/46 [==============================] - 115s 3s/step - loss: 0.3299 - accuracy: 0.8687 - val_loss: 0.3117 - val_accuracy: 0.8743\n",
            "Epoch 17/30\n",
            "46/46 [==============================] - 115s 2s/step - loss: 0.2797 - accuracy: 0.8851 - val_loss: 0.2738 - val_accuracy: 0.8716\n",
            "Epoch 18/30\n",
            "46/46 [==============================] - 119s 3s/step - loss: 0.2553 - accuracy: 0.9029 - val_loss: 0.2926 - val_accuracy: 0.8907\n",
            "Epoch 19/30\n",
            "46/46 [==============================] - 131s 3s/step - loss: 0.2105 - accuracy: 0.9172 - val_loss: 0.4539 - val_accuracy: 0.8415\n",
            "Epoch 20/30\n",
            "46/46 [==============================] - 114s 2s/step - loss: 0.3756 - accuracy: 0.8440 - val_loss: 0.3430 - val_accuracy: 0.8880\n",
            "Epoch 21/30\n",
            "46/46 [==============================] - 116s 3s/step - loss: 0.2653 - accuracy: 0.8837 - val_loss: 0.3455 - val_accuracy: 0.8743\n",
            "Epoch 22/30\n",
            "46/46 [==============================] - 114s 2s/step - loss: 0.2489 - accuracy: 0.9015 - val_loss: 0.3603 - val_accuracy: 0.8743\n",
            "Epoch 23/30\n",
            "46/46 [==============================] - 119s 3s/step - loss: 0.1685 - accuracy: 0.9275 - val_loss: 0.3183 - val_accuracy: 0.8962\n",
            "Epoch 24/30\n",
            "46/46 [==============================] - 114s 2s/step - loss: 0.1971 - accuracy: 0.9261 - val_loss: 0.3327 - val_accuracy: 0.8825\n",
            "Epoch 25/30\n",
            "46/46 [==============================] - 117s 3s/step - loss: 0.1763 - accuracy: 0.9220 - val_loss: 0.3332 - val_accuracy: 0.8880\n",
            "Epoch 26/30\n",
            "46/46 [==============================] - 114s 2s/step - loss: 0.2246 - accuracy: 0.9097 - val_loss: 0.4231 - val_accuracy: 0.8634\n",
            "Epoch 27/30\n",
            "46/46 [==============================] - 118s 3s/step - loss: 0.1957 - accuracy: 0.9268 - val_loss: 0.3497 - val_accuracy: 0.8852\n",
            "Epoch 28/30\n",
            "46/46 [==============================] - 111s 2s/step - loss: 0.1498 - accuracy: 0.9398 - val_loss: 0.3657 - val_accuracy: 0.8907\n",
            "Epoch 29/30\n",
            "46/46 [==============================] - 116s 3s/step - loss: 0.1913 - accuracy: 0.9234 - val_loss: 0.3671 - val_accuracy: 0.8962\n",
            "Epoch 30/30\n",
            "46/46 [==============================] - 111s 2s/step - loss: 0.1602 - accuracy: 0.9337 - val_loss: 0.3671 - val_accuracy: 0.8852\n"
          ]
        }
      ]
    },
    {
      "cell_type": "code",
      "source": [
        "# Save the trained CNN model\n",
        "model.save('/content/drive/My Drive/arecanut_quality_CNN_model.h5')\n"
      ],
      "metadata": {
        "colab": {
          "base_uri": "https://localhost:8080/"
        },
        "id": "wf6SxeGTlGiR",
        "outputId": "7f6f8bf1-2fe2-4bcb-fce4-3091e7af6b08"
      },
      "execution_count": null,
      "outputs": [
        {
          "output_type": "stream",
          "name": "stderr",
          "text": [
            "/usr/local/lib/python3.10/dist-packages/keras/src/engine/training.py:3079: UserWarning: You are saving your model as an HDF5 file via `model.save()`. This file format is considered legacy. We recommend using instead the native Keras format, e.g. `model.save('my_model.keras')`.\n",
            "  saving_api.save_model(\n"
          ]
        }
      ]
    },
    {
      "cell_type": "code",
      "source": [
        "from tensorflow.keras.models import load_model\n",
        "\n",
        "# Load your pre-trained CNN model\n",
        "cnn_model_path = '/content/drive/My Drive/arecanut_quality_CNN_model.h5'\n",
        "cnn_model = load_model(cnn_model_path)\n",
        "\n",
        "# Evaluate the CNN model on the test set\n",
        "test_loss, test_accuracy = cnn_model.evaluate(X_test, y_test_encoded)\n",
        "print(f'Test Accuracy (CNN Model): {test_accuracy}')"
      ],
      "metadata": {
        "colab": {
          "base_uri": "https://localhost:8080/"
        },
        "id": "XrLy5FpLlP6f",
        "outputId": "ce79d791-20c8-4913-b18b-fbaf5159d74c"
      },
      "execution_count": null,
      "outputs": [
        {
          "output_type": "stream",
          "name": "stdout",
          "text": [
            "12/12 [==============================] - 7s 538ms/step - loss: 0.3671 - accuracy: 0.8852\n",
            "Test Accuracy (CNN Model): 0.8852459192276001\n"
          ]
        }
      ]
    },
    {
      "cell_type": "markdown",
      "source": [
        "# Predicting the quality for unseen data"
      ],
      "metadata": {
        "id": "Sco34YFBZuYx"
      }
    },
    {
      "cell_type": "code",
      "source": [
        "from keras.models import load_model\n",
        "model = load_model('/content/drive/My Drive/arecanut_quality_CNN_model.h5')"
      ],
      "metadata": {
        "id": "8fGk5kg7nqh5"
      },
      "execution_count": null,
      "outputs": []
    },
    {
      "cell_type": "code",
      "source": [
        "from PIL import Image\n",
        "import numpy as np\n",
        "from tensorflow.keras.models import load_model\n",
        "\n",
        "# Load your pre-trained CNN model\n",
        "model_path = '/content/drive/My Drive/arecanut_quality_CNN_model.h5'\n",
        "model = load_model(model_path)\n",
        "\n",
        "def predict_quality(image_path):\n",
        "    try:\n",
        "        # Open the image\n",
        "        img = Image.open(image_path)\n",
        "\n",
        "        # Resize the image to match the input size expected by your model\n",
        "        img = img.resize((128, 128))\n",
        "\n",
        "        # Convert image to array and normalize\n",
        "        img_array = np.array(img) / 255.0\n",
        "\n",
        "        # Expand dimensions to match the input shape expected by the model\n",
        "        img_array = np.expand_dims(img_array, axis=0)\n",
        "\n",
        "        # Make predictions\n",
        "        prediction = model.predict(img_array)\n",
        "        predicted_class = np.argmax(prediction)\n",
        "\n",
        "        # Map the predicted class to the corresponding quality grade\n",
        "        label_names = ['High_Quality', 'Low_Quality', 'Medium_Quality']\n",
        "        predicted_class_label = label_names[predicted_class]\n",
        "\n",
        "        # Construct result string with percentages of all classes\n",
        "        result_string = \"\"\n",
        "        for i in range(len(label_names)):\n",
        "            class_prob = prediction[0][i]\n",
        "            class_label = label_names[i]\n",
        "            result_string += f\"{class_label}: {class_prob*100:.2f}%, \"\n",
        "\n",
        "        full_final_result = result_string[:-2]  # Remove trailing comma and space\n",
        "        return f\"Predicted Class: {predicted_class_label}\\nConfidence: {full_final_result}\"\n",
        "\n",
        "    except Exception as e:\n",
        "        return str(e)\n",
        "\n",
        "# Example usage\n",
        "image_path = '/content/drive/MyDrive/New_Images/High_Quality/High05.jpg'\n",
        "prediction_result = predict_quality(image_path)\n",
        "print(prediction_result)\n"
      ],
      "metadata": {
        "colab": {
          "base_uri": "https://localhost:8080/"
        },
        "id": "Rv9M0VQPoSXE",
        "outputId": "576e20ff-4052-49dc-b64c-92e23a3a1005"
      },
      "execution_count": null,
      "outputs": [
        {
          "output_type": "stream",
          "name": "stdout",
          "text": [
            "1/1 [==============================] - 0s 481ms/step\n",
            "Predicted Class: High_Quality\n",
            "Confidence: High_Quality: 100.00%, Low_Quality: 0.00%, Medium_Quality: 0.00%\n"
          ]
        }
      ]
    },
    {
      "cell_type": "code",
      "source": [
        "print(\"----------------------------------------------------------------------------------------------------------------\")"
      ],
      "metadata": {
        "colab": {
          "base_uri": "https://localhost:8080/"
        },
        "id": "ITxzc4sSpGPB",
        "outputId": "33825a3f-0cd5-4f84-d662-a5312a318ea1"
      },
      "execution_count": null,
      "outputs": [
        {
          "output_type": "stream",
          "name": "stdout",
          "text": [
            "----------------------------------------------------------------------------------------------------------------\n"
          ]
        }
      ]
    },
    {
      "cell_type": "code",
      "source": [
        "print(\"----------------------------------------------------------------------------------------------------------------\")"
      ],
      "metadata": {
        "id": "HGE-oFWmHRlQ",
        "colab": {
          "base_uri": "https://localhost:8080/"
        },
        "outputId": "f918e49d-6710-47c9-9874-da580f98450a"
      },
      "execution_count": null,
      "outputs": [
        {
          "output_type": "stream",
          "name": "stdout",
          "text": [
            "----------------------------------------------------------------------------------------------------------------\n"
          ]
        }
      ]
    },
    {
      "cell_type": "code",
      "source": [
        "print(\"----------------------------------------------------------------------------------------------------------------\")"
      ],
      "metadata": {
        "colab": {
          "base_uri": "https://localhost:8080/"
        },
        "id": "7Eb_wZ3LpMIh",
        "outputId": "4d16cb99-695e-427a-d7e5-12b99ef79408"
      },
      "execution_count": null,
      "outputs": [
        {
          "output_type": "stream",
          "name": "stdout",
          "text": [
            "----------------------------------------------------------------------------------------------------------------\n"
          ]
        }
      ]
    },
    {
      "cell_type": "markdown",
      "source": [
        "# SVM CLASSIFIER"
      ],
      "metadata": {
        "id": "Wx1FEKmLpUWB"
      }
    },
    {
      "cell_type": "code",
      "source": [
        "from sklearn.svm import SVC\n",
        "from sklearn.metrics import accuracy_score\n",
        "\n",
        "# Create the SVM classifier\n",
        "svm_model = SVC(C=1, kernel='poly', gamma=0.1)\n",
        "\n",
        "# Train the SVM classifier\n",
        "svm_model.fit(X_train.reshape(X_train.shape[0], -1), y_train_encoded)"
      ],
      "metadata": {
        "colab": {
          "base_uri": "https://localhost:8080/",
          "height": 74
        },
        "id": "SsnmlSDGpNEU",
        "outputId": "782957ff-44ad-4586-a6e1-406d8e033553"
      },
      "execution_count": null,
      "outputs": [
        {
          "output_type": "execute_result",
          "data": {
            "text/plain": [
              "SVC(C=1, gamma=0.1, kernel='poly')"
            ],
            "text/html": [
              "<style>#sk-container-id-1 {color: black;background-color: white;}#sk-container-id-1 pre{padding: 0;}#sk-container-id-1 div.sk-toggleable {background-color: white;}#sk-container-id-1 label.sk-toggleable__label {cursor: pointer;display: block;width: 100%;margin-bottom: 0;padding: 0.3em;box-sizing: border-box;text-align: center;}#sk-container-id-1 label.sk-toggleable__label-arrow:before {content: \"▸\";float: left;margin-right: 0.25em;color: #696969;}#sk-container-id-1 label.sk-toggleable__label-arrow:hover:before {color: black;}#sk-container-id-1 div.sk-estimator:hover label.sk-toggleable__label-arrow:before {color: black;}#sk-container-id-1 div.sk-toggleable__content {max-height: 0;max-width: 0;overflow: hidden;text-align: left;background-color: #f0f8ff;}#sk-container-id-1 div.sk-toggleable__content pre {margin: 0.2em;color: black;border-radius: 0.25em;background-color: #f0f8ff;}#sk-container-id-1 input.sk-toggleable__control:checked~div.sk-toggleable__content {max-height: 200px;max-width: 100%;overflow: auto;}#sk-container-id-1 input.sk-toggleable__control:checked~label.sk-toggleable__label-arrow:before {content: \"▾\";}#sk-container-id-1 div.sk-estimator input.sk-toggleable__control:checked~label.sk-toggleable__label {background-color: #d4ebff;}#sk-container-id-1 div.sk-label input.sk-toggleable__control:checked~label.sk-toggleable__label {background-color: #d4ebff;}#sk-container-id-1 input.sk-hidden--visually {border: 0;clip: rect(1px 1px 1px 1px);clip: rect(1px, 1px, 1px, 1px);height: 1px;margin: -1px;overflow: hidden;padding: 0;position: absolute;width: 1px;}#sk-container-id-1 div.sk-estimator {font-family: monospace;background-color: #f0f8ff;border: 1px dotted black;border-radius: 0.25em;box-sizing: border-box;margin-bottom: 0.5em;}#sk-container-id-1 div.sk-estimator:hover {background-color: #d4ebff;}#sk-container-id-1 div.sk-parallel-item::after {content: \"\";width: 100%;border-bottom: 1px solid gray;flex-grow: 1;}#sk-container-id-1 div.sk-label:hover label.sk-toggleable__label {background-color: #d4ebff;}#sk-container-id-1 div.sk-serial::before {content: \"\";position: absolute;border-left: 1px solid gray;box-sizing: border-box;top: 0;bottom: 0;left: 50%;z-index: 0;}#sk-container-id-1 div.sk-serial {display: flex;flex-direction: column;align-items: center;background-color: white;padding-right: 0.2em;padding-left: 0.2em;position: relative;}#sk-container-id-1 div.sk-item {position: relative;z-index: 1;}#sk-container-id-1 div.sk-parallel {display: flex;align-items: stretch;justify-content: center;background-color: white;position: relative;}#sk-container-id-1 div.sk-item::before, #sk-container-id-1 div.sk-parallel-item::before {content: \"\";position: absolute;border-left: 1px solid gray;box-sizing: border-box;top: 0;bottom: 0;left: 50%;z-index: -1;}#sk-container-id-1 div.sk-parallel-item {display: flex;flex-direction: column;z-index: 1;position: relative;background-color: white;}#sk-container-id-1 div.sk-parallel-item:first-child::after {align-self: flex-end;width: 50%;}#sk-container-id-1 div.sk-parallel-item:last-child::after {align-self: flex-start;width: 50%;}#sk-container-id-1 div.sk-parallel-item:only-child::after {width: 0;}#sk-container-id-1 div.sk-dashed-wrapped {border: 1px dashed gray;margin: 0 0.4em 0.5em 0.4em;box-sizing: border-box;padding-bottom: 0.4em;background-color: white;}#sk-container-id-1 div.sk-label label {font-family: monospace;font-weight: bold;display: inline-block;line-height: 1.2em;}#sk-container-id-1 div.sk-label-container {text-align: center;}#sk-container-id-1 div.sk-container {/* jupyter's `normalize.less` sets `[hidden] { display: none; }` but bootstrap.min.css set `[hidden] { display: none !important; }` so we also need the `!important` here to be able to override the default hidden behavior on the sphinx rendered scikit-learn.org. See: https://github.com/scikit-learn/scikit-learn/issues/21755 */display: inline-block !important;position: relative;}#sk-container-id-1 div.sk-text-repr-fallback {display: none;}</style><div id=\"sk-container-id-1\" class=\"sk-top-container\"><div class=\"sk-text-repr-fallback\"><pre>SVC(C=1, gamma=0.1, kernel=&#x27;poly&#x27;)</pre><b>In a Jupyter environment, please rerun this cell to show the HTML representation or trust the notebook. <br />On GitHub, the HTML representation is unable to render, please try loading this page with nbviewer.org.</b></div><div class=\"sk-container\" hidden><div class=\"sk-item\"><div class=\"sk-estimator sk-toggleable\"><input class=\"sk-toggleable__control sk-hidden--visually\" id=\"sk-estimator-id-1\" type=\"checkbox\" checked><label for=\"sk-estimator-id-1\" class=\"sk-toggleable__label sk-toggleable__label-arrow\">SVC</label><div class=\"sk-toggleable__content\"><pre>SVC(C=1, gamma=0.1, kernel=&#x27;poly&#x27;)</pre></div></div></div></div></div>"
            ]
          },
          "metadata": {},
          "execution_count": 7
        }
      ]
    },
    {
      "cell_type": "code",
      "source": [
        "# Train and evaluate SVM model\n",
        "svm_model = SVC(C=1, kernel='poly', gamma=1)\n",
        "svm_model.fit(X_train.reshape(X_train.shape[0], -1), y_train_encoded)\n",
        "svm_test_predictions = svm_model.predict(X_test.reshape(X_test.shape[0], -1))\n",
        "svm_test_accuracy = accuracy_score(y_test_encoded, svm_test_predictions)\n",
        "print(f'SVM Test Accuracy: {svm_test_accuracy}')"
      ],
      "metadata": {
        "colab": {
          "base_uri": "https://localhost:8080/"
        },
        "id": "-h3I2T0JrcoV",
        "outputId": "fa890dff-3469-43b7-d274-145e7361ba7f"
      },
      "execution_count": null,
      "outputs": [
        {
          "output_type": "stream",
          "name": "stdout",
          "text": [
            "SVM Test Accuracy: 0.8333333333333334\n"
          ]
        }
      ]
    },
    {
      "cell_type": "markdown",
      "source": [
        "# Naive Bayes"
      ],
      "metadata": {
        "id": "mrAAr4wsUvPM"
      }
    },
    {
      "cell_type": "code",
      "source": [
        "from sklearn.naive_bayes import GaussianNB\n",
        "from sklearn.metrics import accuracy_score, classification_report"
      ],
      "metadata": {
        "id": "HbupaRFoUtof"
      },
      "execution_count": null,
      "outputs": []
    },
    {
      "cell_type": "code",
      "source": [
        "# Reshape images for Gaussian Naive Bayes\n",
        "X_train_flat = X_train.reshape(X_train.shape[0], -1)\n",
        "X_test_flat = X_test.reshape(X_test.shape[0], -1)\n",
        "\n",
        "# Initialize and train the Gaussian Naive Bayes classifier\n",
        "nb_classifier = GaussianNB()\n",
        "nb_classifier.fit(X_train_flat, y_train_encoded)\n",
        "\n",
        "# Make predictions on the test set\n",
        "y_pred_nb = nb_classifier.predict(X_test_flat)\n",
        "\n",
        "# Evaluate the Naive Bayes classifier\n",
        "accuracy_nb = accuracy_score(y_test_encoded, y_pred_nb)\n",
        "print(\"Naive Bayes Test Accuracy:\", accuracy_nb)\n",
        "\n"
      ],
      "metadata": {
        "colab": {
          "base_uri": "https://localhost:8080/"
        },
        "id": "oujpY04JU42O",
        "outputId": "0bc34d73-5cc9-478c-fc58-82e0fcc94792"
      },
      "execution_count": null,
      "outputs": [
        {
          "output_type": "stream",
          "name": "stdout",
          "text": [
            "Naive Bayes Test Accuracy: 0.6147540983606558\n"
          ]
        }
      ]
    },
    {
      "cell_type": "markdown",
      "source": [
        "# XGBoost"
      ],
      "metadata": {
        "id": "yuGigJulVpFN"
      }
    },
    {
      "cell_type": "code",
      "source": [
        "from sklearn.metrics import confusion_matrix\n",
        "import seaborn as sns\n",
        "import matplotlib.pyplot as plt\n",
        "\n",
        "# Evaluate CNN model on the test set\n",
        "cnn_test_predictions = model.predict(X_test)\n",
        "cnn_test_predictions = np.argmax(cnn_test_predictions, axis=1)  # Convert one-hot encoded predictions to labels\n",
        "cnn_conf_matrix = confusion_matrix(y_test_encoded, cnn_test_predictions)\n"
      ],
      "metadata": {
        "colab": {
          "base_uri": "https://localhost:8080/"
        },
        "id": "wKmh74ds-M_3",
        "outputId": "5327984a-f0c5-486f-9a36-177296075dde"
      },
      "execution_count": null,
      "outputs": [
        {
          "output_type": "stream",
          "name": "stdout",
          "text": [
            "12/12 [==============================] - 12s 923ms/step\n"
          ]
        }
      ]
    },
    {
      "cell_type": "code",
      "source": [
        "# Print CNN confusion matrix\n",
        "print(\"CNN Confusion Matrix:\")\n",
        "print(cnn_conf_matrix)\n",
        "\n",
        "# Plot CNN confusion matrix\n",
        "plt.figure(figsize=(8, 6))\n",
        "sns.heatmap(cnn_conf_matrix, annot=True, fmt='g', cmap='Blues', xticklabels=categories, yticklabels=categories)\n",
        "plt.title('CNN Confusion Matrix')\n",
        "plt.xlabel('Predicted')\n",
        "plt.ylabel('True')\n",
        "plt.show()\n"
      ],
      "metadata": {
        "colab": {
          "base_uri": "https://localhost:8080/",
          "height": 633
        },
        "id": "YDr38mxI-VcY",
        "outputId": "aa4f3257-3392-46cd-e660-280e67013668"
      },
      "execution_count": null,
      "outputs": [
        {
          "output_type": "stream",
          "name": "stdout",
          "text": [
            "CNN Confusion Matrix:\n",
            "[[135   1   9]\n",
            " [  1 105  10]\n",
            " [ 14   7  84]]\n"
          ]
        },
        {
          "output_type": "display_data",
          "data": {
            "text/plain": [
              "<Figure size 800x600 with 2 Axes>"
            ],
            "image/png": "[encoded data removed]"
          },
          "metadata": {}
        }
      ]
    },
    {
      "cell_type": "code",
      "source": [
        "from sklearn.metrics import classification_report\n",
        "\n",
        "# Evaluate CNN model on the test set\n",
        "cnn_test_predictions = model.predict(X_test)\n",
        "cnn_test_predictions = np.argmax(cnn_test_predictions, axis=1)  # Convert one-hot encoded predictions to labels\n",
        "\n",
        "# Print classification report for CNN\n",
        "print(\"CNN Classification Report:\")\n",
        "print(classification_report(y_test_encoded, cnn_test_predictions, target_names=categories))\n"
      ],
      "metadata": {
        "colab": {
          "base_uri": "https://localhost:8080/"
        },
        "id": "5uWLfgZN8pcA",
        "outputId": "f52b743a-77dc-4474-c838-9277fa8640df"
      },
      "execution_count": null,
      "outputs": [
        {
          "output_type": "stream",
          "name": "stdout",
          "text": [
            "12/12 [==============================] - 12s 973ms/step\n",
            "CNN Classification Report:\n",
            "                precision    recall  f1-score   support\n",
            "\n",
            "  High_Quality       0.90      0.93      0.92       145\n",
            "   Low_Quality       0.93      0.91      0.92       116\n",
            "Medium_Quality       0.82      0.80      0.81       105\n",
            "\n",
            "      accuracy                           0.89       366\n",
            "     macro avg       0.88      0.88      0.88       366\n",
            "  weighted avg       0.89      0.89      0.88       366\n",
            "\n"
          ]
        }
      ]
    },
    {
      "cell_type": "code",
      "source": [
        "from sklearn.metrics import f1_score\n",
        "\n",
        "# Calculate overall F1-score for CNN\n",
        "cnn_f1_score = f1_score(y_test_encoded, cnn_test_predictions, average='weighted')\n",
        "print(f'CNN Overall F1-Score: {cnn_f1_score}')\n"
      ],
      "metadata": {
        "colab": {
          "base_uri": "https://localhost:8080/"
        },
        "id": "T5ZwR1I_99OT",
        "outputId": "563ab593-a70b-470e-d7fb-f72b5ab3f879"
      },
      "execution_count": null,
      "outputs": [
        {
          "output_type": "stream",
          "name": "stdout",
          "text": [
            "CNN Overall F1-Score: 0.8849592966284162\n"
          ]
        }
      ]
    },
    {
      "cell_type": "code",
      "source": [
        "import matplotlib.pyplot as plt\n",
        "\n",
        "# Accuracy values for each model\n",
        "accuracies = [test_accuracy, svm_test_accuracy, accuracy_nb]\n",
        "\n",
        "# Model names\n",
        "models = ['CNN', 'SVM', 'Naive Bayes']\n",
        "\n",
        "# Create a bar chart\n",
        "plt.bar(models, accuracies, color=['blue', 'green', 'orange'])\n",
        "\n",
        "# Add labels and title\n",
        "plt.xlabel('Models')\n",
        "plt.ylabel('Accuracy')\n",
        "plt.title('Model Comparison')\n",
        "\n",
        "# Display the bar chart\n",
        "plt.show()\n"
      ],
      "metadata": {
        "id": "eCSm22STfUgc",
        "colab": {
          "base_uri": "https://localhost:8080/",
          "height": 472
        },
        "outputId": "87cbadcc-a1d6-4b33-bee7-a52c2a68e1c6"
      },
      "execution_count": null,
      "outputs": [
        {
          "output_type": "display_data",
          "data": {
            "text/plain": [
              "<Figure size 640x480 with 1 Axes>"
            ],
            "image/png": "[encoded data removed]"
          },
          "metadata": {}
        }
      ]
    },
    {
      "cell_type": "code",
      "source": [],
      "metadata": {
        "id": "oVXEwFOks4wP"
      },
      "execution_count": null,
      "outputs": []
    }
  ]
}